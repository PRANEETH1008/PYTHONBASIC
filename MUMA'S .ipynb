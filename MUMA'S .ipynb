{
 "cells": [
  {
   "cell_type": "markdown",
   "id": "afcfb3b1",
   "metadata": {},
   "source": [
    "# conditions"
   ]
  },
  {
   "cell_type": "markdown",
   "id": "b7c6525e",
   "metadata": {},
   "source": [
    "\"\"\"conditions has 3 modules\n",
    "if\n",
    "elif\n",
    "else\"\"\""
   ]
  },
  {
   "cell_type": "code",
   "execution_count": 2,
   "id": "e0dbed28",
   "metadata": {},
   "outputs": [
    {
     "name": "stdout",
     "output_type": "stream",
     "text": [
      "20\n"
     ]
    }
   ],
   "source": [
    "a=10 \n",
    "b=20\n",
    "c=a+b\n",
    "if a>b:\n",
    "    print(c)\n",
    "elif a<b:\n",
    "    print(b)\n",
    "elif a!=b:\n",
    "     print (c)\n",
    "else:\n",
    "    print(\"enter the value:\")"
   ]
  },
  {
   "cell_type": "code",
   "execution_count": 5,
   "id": "4e0e9ee0",
   "metadata": {},
   "outputs": [
    {
     "name": "stdout",
     "output_type": "stream",
     "text": [
      "B is grt then a\n"
     ]
    }
   ],
   "source": [
    "a=10\n",
    "b=20\n",
    "if a>b:\n",
    "   print(\"a is grt then b\")\n",
    "elif b>a:\n",
    "    print(\"B is grt then a\")"
   ]
  },
  {
   "cell_type": "code",
   "execution_count": 15,
   "id": "3ead2371",
   "metadata": {},
   "outputs": [
    {
     "name": "stdout",
     "output_type": "stream",
     "text": [
      " 1010\n"
     ]
    }
   ],
   "source": [
    "number = 10 \n",
    "a=f'{number : b}'\n",
    "print(a)"
   ]
  },
  {
   "cell_type": "code",
   "execution_count": 18,
   "id": "d95eb726",
   "metadata": {},
   "outputs": [
    {
     "name": "stdout",
     "output_type": "stream",
     "text": [
      "     11110\n"
     ]
    }
   ],
   "source": [
    "number2 = 30\n",
    "b = f'{number2: 10b}'\n",
    "print(b)"
   ]
  },
  {
   "cell_type": "code",
   "execution_count": 14,
   "id": "1a120f48",
   "metadata": {},
   "outputs": [
    {
     "name": "stdout",
     "output_type": "stream",
     "text": [
      "0000011110\n"
     ]
    }
   ],
   "source": [
    "number3 = 30\n",
    "c=f'{number2:010b}'\n",
    "print(c)"
   ]
  },
  {
   "cell_type": "markdown",
   "id": "cc406025",
   "metadata": {},
   "source": [
    "# and or operation"
   ]
  },
  {
   "cell_type": "code",
   "execution_count": 19,
   "id": "7c47b6a1",
   "metadata": {},
   "outputs": [
    {
     "name": "stdout",
     "output_type": "stream",
     "text": [
      "10\n"
     ]
    }
   ],
   "source": [
    "a = 10\n",
    "b = 20\n",
    "if a == 10 or a == 20:\n",
    "    print(a)"
   ]
  },
  {
   "cell_type": "code",
   "execution_count": null,
   "id": "09ab5362",
   "metadata": {},
   "outputs": [],
   "source": [
    "if a == 10 and a == 20:\n",
    "    print(a)"
   ]
  }
 ],
 "metadata": {
  "kernelspec": {
   "display_name": "Python 3 (ipykernel)",
   "language": "python",
   "name": "python3"
  },
  "language_info": {
   "codemirror_mode": {
    "name": "ipython",
    "version": 3
   },
   "file_extension": ".py",
   "mimetype": "text/x-python",
   "name": "python",
   "nbconvert_exporter": "python",
   "pygments_lexer": "ipython3",
   "version": "3.10.9"
  }
 },
 "nbformat": 4,
 "nbformat_minor": 5
}
